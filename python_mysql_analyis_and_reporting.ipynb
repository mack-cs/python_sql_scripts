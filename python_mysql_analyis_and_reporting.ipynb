{
 "cells": [
  {
   "cell_type": "code",
   "execution_count": 69,
   "id": "6859dd4e",
   "metadata": {},
   "outputs": [],
   "source": [
    "import mysql.connector as connector\n",
    "from mysql.connector import Error"
   ]
  },
  {
   "cell_type": "code",
   "execution_count": 70,
   "id": "d21f2e3b",
   "metadata": {},
   "outputs": [],
   "source": [
    "try:\n",
    "    conn = connector.connect(user='root', password='mackshon')\n",
    "except connector.Error as err:\n",
    "    print(f'Connection error: {err}')"
   ]
  },
  {
   "cell_type": "code",
   "execution_count": 71,
   "id": "e9d652f6",
   "metadata": {},
   "outputs": [],
   "source": [
    "# Defining cursor\n",
    "cursor = conn.cursor()"
   ]
  },
  {
   "cell_type": "markdown",
   "id": "20300156",
   "metadata": {},
   "source": [
    "### Setting up database"
   ]
  },
  {
   "cell_type": "markdown",
   "id": "4bbaac64",
   "metadata": {},
   "source": [
    "#### Database creation"
   ]
  },
  {
   "cell_type": "code",
   "execution_count": 72,
   "id": "033679ed",
   "metadata": {},
   "outputs": [
    {
     "name": "stdout",
     "output_type": "stream",
     "text": [
      "The database little_lemon is created.\n",
      "\n"
     ]
    }
   ],
   "source": [
    "try:\n",
    "    cursor.execute(\"CREATE DATABASE little_lemon_db\")\n",
    "except:\n",
    "    cursor.execute(\"drop database little_lemon_db\")\n",
    "    cursor.execute(\"CREATE DATABASE little_lemon_db\")\n",
    "print(\"The database little_lemon is created.\\n\")    "
   ]
  },
  {
   "cell_type": "code",
   "execution_count": 73,
   "id": "e3be2936",
   "metadata": {},
   "outputs": [],
   "source": [
    "cursor.execute('use little_lemon_db')"
   ]
  },
  {
   "cell_type": "markdown",
   "id": "5f3a830d",
   "metadata": {},
   "source": [
    "#### Table creation"
   ]
  },
  {
   "cell_type": "code",
   "execution_count": 74,
   "id": "c3910cbe",
   "metadata": {},
   "outputs": [],
   "source": [
    "#MenuItems table\n",
    "create_menuitem_table = \"\"\"CREATE TABLE IF NOT EXISTS MenuItems (\n",
    "ItemID INT AUTO_INCREMENT,\n",
    "Name VARCHAR(200),\n",
    "Type VARCHAR(100),\n",
    "Price INT,\n",
    "PRIMARY KEY (ItemID)\n",
    ");\"\"\""
   ]
  },
  {
   "cell_type": "code",
   "execution_count": 75,
   "id": "677fb7ae",
   "metadata": {},
   "outputs": [],
   "source": [
    "create_menu_table = \"\"\"CREATE TABLE IF NOT EXISTS  Menus (\n",
    "MenuID INT,\n",
    "ItemID INT,\n",
    "Cuisine VARCHAR(100)\n",
    ");\"\"\""
   ]
  },
  {
   "cell_type": "code",
   "execution_count": 76,
   "id": "c313b0e1",
   "metadata": {},
   "outputs": [],
   "source": [
    "create_booking_table = \"\"\"CREATE TABLE IF NOT EXISTS  Bookings (\n",
    "BookingID INT AUTO_INCREMENT,\n",
    "TableNo INT,\n",
    "GuestFirstName VARCHAR(100) NOT NULL,\n",
    "GuestLastName VARCHAR(100) NOT NULL,\n",
    "BookingSlot TIME NOT NULL,\n",
    "EmployeeID INT,\n",
    "PRIMARY KEY (BookingID)\n",
    ");\"\"\""
   ]
  },
  {
   "cell_type": "code",
   "execution_count": 77,
   "id": "69c34422",
   "metadata": {},
   "outputs": [],
   "source": [
    "create_orders_table = \"\"\"CREATE TABLE IF NOT EXISTS  Orders (\n",
    "OrderID INT,\n",
    "TableNo INT,\n",
    "MenuID INT,\n",
    "BookingID INT,\n",
    "BillAmount INT,\n",
    "Quantity INT,\n",
    "PRIMARY KEY (OrderID,TableNo)\n",
    ");\"\"\""
   ]
  },
  {
   "cell_type": "code",
   "execution_count": 78,
   "id": "0a1772bb",
   "metadata": {},
   "outputs": [],
   "source": [
    "create_employees_table = \"\"\"CREATE TABLE IF NOT EXISTS   Employees (\n",
    "EmployeeID INT AUTO_INCREMENT PRIMARY KEY,\n",
    "Name VARCHAR(100) NOT NULL,\n",
    "Role VARCHAR(100) NOT NULL,\n",
    "Address VARCHAR(100) NOT NULL,\n",
    "Contact_Number INT,\n",
    "Email VARCHAR(100) NOT NULL,\n",
    "Annual_Salary VARCHAR(100) NOT NULL\n",
    ");\"\"\""
   ]
  },
  {
   "cell_type": "code",
   "execution_count": 79,
   "id": "9cdef96a",
   "metadata": {},
   "outputs": [],
   "source": [
    "# Create Menu table\n",
    "cursor.execute(create_menu_table)\n",
    "\n",
    "# Create Bookings table\n",
    "cursor.execute(create_booking_table)\n",
    "\n",
    "# Create Orders table\n",
    "cursor.execute(create_orders_table)\n",
    "\n",
    "# Create Employees table\n",
    "cursor.execute(create_employees_table)\n",
    "\n",
    "# Create Employees table\n",
    "cursor.execute(create_menuitem_table)"
   ]
  },
  {
   "cell_type": "markdown",
   "id": "9355e450",
   "metadata": {},
   "source": [
    "#### Populating tables"
   ]
  },
  {
   "cell_type": "code",
   "execution_count": 80,
   "id": "ffce63de",
   "metadata": {},
   "outputs": [],
   "source": [
    "#*******************************************************#\n",
    "# Insert query to populate \"MenuItems\" table:\n",
    "#*******************************************************#\n",
    "insert_menuitems=\"\"\"\n",
    "INSERT INTO MenuItems ( Name, Type, Price)\n",
    "VALUES\n",
    "( 'Olives','Starters',5),\n",
    "('Flatbread','Starters', 5),\n",
    "( 'Minestrone', 'Starters', 8),\n",
    "( 'Tomato bread','Starters', 8),\n",
    "('Falafel', 'Starters', 7),\n",
    "( 'Hummus', 'Starters', 5),\n",
    "( 'Greek salad', 'Main Courses', 15),\n",
    "( 'Bean soup', 'Main Courses', 12),\n",
    "( 'Pizza', 'Main Courses', 15),\n",
    "( 'Greek yoghurt','Desserts', 7),\n",
    "('Ice cream', 'Desserts', 6),\n",
    "('Cheesecake', 'Desserts', 4),\n",
    "('Athens White wine', 'Drinks', 25),\n",
    "('Corfu Red Wine', 'Drinks', 30),\n",
    "( 'Turkish Coffee', 'Drinks', 10),\n",
    "( 'Turkish Coffee', 'Drinks', 10),\n",
    "('Kabasa', 'Main Courses', 17);\"\"\"\n"
   ]
  },
  {
   "cell_type": "code",
   "execution_count": 81,
   "id": "e622160a",
   "metadata": {},
   "outputs": [],
   "source": [
    "\n",
    "#*******************************************************#\n",
    "# Insert query to populate \"Menu\" table:\n",
    "#*******************************************************#\n",
    "insert_menu=\"\"\"\n",
    "INSERT INTO Menus (MenuID,ItemID,Cuisine)\n",
    "VALUES\n",
    "(1, 1, 'Greek'),\n",
    "(1, 7, 'Greek'),\n",
    "(1, 10, 'Greek'),\n",
    "(1, 13, 'Greek'),\n",
    "(2, 3, 'Italian'),\n",
    "(2, 9, 'Italian'),\n",
    "(2, 12, 'Italian'),\n",
    "(2, 15, 'Italian'),\n",
    "(3, 5, 'Turkish'),\n",
    "(3, 17, 'Turkish'),\n",
    "(3, 11, 'Turkish'),\n",
    "(3, 16, 'Turkish');\"\"\"\n",
    "\n",
    "#*******************************************************#\n",
    "# Insert query to populate \"Bookings\" table:\n",
    "#*******************************************************#\n",
    "insert_bookings=\"\"\"\n",
    "INSERT INTO Bookings (TableNo, GuestFirstName, \n",
    "GuestLastName, BookingSlot, EmployeeID)\n",
    "VALUES\n",
    "( 12, 'Anna','Iversen','19:00:00',1),\n",
    "(12, 'Joakim', 'Iversen', '19:00:00', 1),\n",
    "(19, 'Vanessa', 'McCarthy', '15:00:00', 3),\n",
    "(15, 'Marcos', 'Romero', '17:30:00', 4),\n",
    "( 5, 'Hiroki', 'Yamane', '18:30:00', 2),\n",
    "( 8, 'Diana', 'Pinto', '20:00:00', 5);\"\"\"\n",
    "\n",
    "#*******************************************************#\n",
    "# Insert query to populate \"Orders\" table:\n",
    "#*******************************************************#\n",
    "insert_orders=\"\"\"\n",
    "INSERT INTO Orders (OrderID, TableNo, MenuID, BookingID, Quantity, BillAmount)\n",
    "VALUES\n",
    "(1, 12, 1, 1, 2, 86),\n",
    "(2, 19, 2, 2, 1, 37),\n",
    "(3, 15, 2, 3, 1, 37),\n",
    "(4, 5, 3, 4, 1, 40),\n",
    "(5, 8, 1, 5, 1, 43);\"\"\"\n",
    "\n",
    "#*******************************************************#\n",
    "# Insert query to populate \"Employees\" table:\n",
    "#*******************************************************#\n",
    "insert_employees = \"\"\"\n",
    "INSERT INTO employees (Name, Role, Address, Contact_Number, Email, Annual_Salary) VALUES\n",
    "('Mario Gollini','Manager','724, Parsley Lane, Old Town, Chicago, IL',351258074,'Mario.g@littlelemon.com','$70,000'),\n",
    "('Adrian Gollini','Assistant Manager','334, Dill Square, Lincoln Park, Chicago, IL',351474048,'Adrian.g@littlelemon.com','$65,000'),\n",
    "('Giorgos Dioudis','Head Chef','879 Sage Street, West Loop, Chicago, IL',351970582,'Giorgos.d@littlelemon.com','$50,000'),\n",
    "('Fatma Kaya','Assistant Chef','132  Bay Lane, Chicago, IL',351963569,'Fatma.k@littlelemon.com','$45,000'),\n",
    "('Elena Salvai','Head Waiter','989 Thyme Square, EdgeWater, Chicago, IL',351074198,'Elena.s@littlelemon.com','$40,000'),\n",
    "('John Millar','Receptionist','245 Dill Square, Lincoln Park, Chicago, IL',351584508,'John.m@littlelemon.com','$35,000');\"\"\"\n"
   ]
  },
  {
   "cell_type": "code",
   "execution_count": 82,
   "id": "8ddf869a",
   "metadata": {},
   "outputs": [],
   "source": [
    "# Populate MenuItems table\n",
    "cursor.execute(insert_menuitems)\n",
    "conn.commit()"
   ]
  },
  {
   "cell_type": "code",
   "execution_count": 83,
   "id": "480672f3",
   "metadata": {},
   "outputs": [],
   "source": [
    "# Populate Employees table\n",
    "cursor.execute(insert_employees)\n",
    "conn.commit()"
   ]
  },
  {
   "cell_type": "code",
   "execution_count": 84,
   "id": "a2018369",
   "metadata": {},
   "outputs": [],
   "source": [
    "# Populate MenuItems table\n",
    "cursor.execute(insert_menu)\n",
    "conn.commit()"
   ]
  },
  {
   "cell_type": "code",
   "execution_count": 85,
   "id": "0da04318",
   "metadata": {},
   "outputs": [],
   "source": [
    "# Populate Bookings table\n",
    "cursor.execute(insert_bookings)\n",
    "conn.commit()"
   ]
  },
  {
   "cell_type": "code",
   "execution_count": 86,
   "id": "0586d6fd",
   "metadata": {},
   "outputs": [],
   "source": [
    "# Populate Orders table\n",
    "cursor.execute(insert_orders)\n",
    "conn.commit()"
   ]
  },
  {
   "cell_type": "code",
   "execution_count": 87,
   "id": "25e28587",
   "metadata": {},
   "outputs": [],
   "source": [
    "conn.close()"
   ]
  },
  {
   "cell_type": "markdown",
   "id": "139d21c2",
   "metadata": {},
   "source": [
    "### Implementing Stored Procedures"
   ]
  },
  {
   "cell_type": "markdown",
   "id": "23fe9ef6",
   "metadata": {},
   "source": [
    "#### Creating connection pool"
   ]
  },
  {
   "cell_type": "code",
   "execution_count": 88,
   "id": "428ea8ae",
   "metadata": {},
   "outputs": [],
   "source": [
    "from mysql.connector.pooling import MySQLConnectionPool"
   ]
  },
  {
   "cell_type": "code",
   "execution_count": 89,
   "id": "e065d05a",
   "metadata": {},
   "outputs": [],
   "source": [
    "dbconfig={\n",
    "    \"database\":\"little_lemon_db\", \n",
    "    \"user\":\"root\", \n",
    "    \"password\":\"mackshon\"}"
   ]
  },
  {
   "cell_type": "code",
   "execution_count": 90,
   "id": "1a67f630",
   "metadata": {},
   "outputs": [],
   "source": [
    "try:\n",
    "    pool = MySQLConnectionPool(\n",
    "                              pool_name=\"pool_a\",\n",
    "                              pool_size=2,\n",
    "                              host='localhost',\n",
    "                              **dbconfig\n",
    "                            )\n",
    "except Error as err:\n",
    "    print(\"Error code: \", err.errno)\n",
    "    print(\"Error message: \", err.msg)"
   ]
  },
  {
   "cell_type": "code",
   "execution_count": 91,
   "id": "84df365a",
   "metadata": {},
   "outputs": [],
   "source": [
    "conn = pool.get_connection()"
   ]
  },
  {
   "cell_type": "code",
   "execution_count": 92,
   "id": "230f2141",
   "metadata": {},
   "outputs": [],
   "source": [
    "cursor = conn.cursor()"
   ]
  },
  {
   "cell_type": "markdown",
   "id": "db906f14",
   "metadata": {},
   "source": [
    "#### Creating PeakHours Stored Procedure"
   ]
  },
  {
   "cell_type": "code",
   "execution_count": 93,
   "id": "63077ae8",
   "metadata": {},
   "outputs": [],
   "source": [
    "stored_procedure = \"\"\"\n",
    "CREATE PROCEDURE IF NOT EXISTS PeakHours()\n",
    "BEGIN\n",
    "    SELECT\n",
    "        HOUR(BookingSlot) Hour,\n",
    "        COUNT(HOUR(BookingSlot)) NoBookings\n",
    "    FROM\n",
    "        little_lemon_db.bookings\n",
    "    GROUP BY \n",
    "        HOUR(BookingSlot)\n",
    "    ORDER BY\n",
    "        COUNT(HOUR(BookingSlot)) DESC;\n",
    "END\n",
    "\"\"\""
   ]
  },
  {
   "cell_type": "code",
   "execution_count": 94,
   "id": "09412161",
   "metadata": {},
   "outputs": [],
   "source": [
    "cursor.execute(stored_procedure)"
   ]
  },
  {
   "cell_type": "code",
   "execution_count": 95,
   "id": "2a6e6692",
   "metadata": {},
   "outputs": [
    {
     "data": {
      "text/plain": [
       "()"
      ]
     },
     "execution_count": 95,
     "metadata": {},
     "output_type": "execute_result"
    }
   ],
   "source": [
    "cursor.callproc('PeakHours')"
   ]
  },
  {
   "cell_type": "code",
   "execution_count": 96,
   "id": "0854c428",
   "metadata": {},
   "outputs": [],
   "source": [
    "results = next(cursor.stored_results())"
   ]
  },
  {
   "cell_type": "code",
   "execution_count": 97,
   "id": "f363f5da",
   "metadata": {},
   "outputs": [],
   "source": [
    "dataset = results.fetchall()"
   ]
  },
  {
   "cell_type": "code",
   "execution_count": 98,
   "id": "34cf136d",
   "metadata": {},
   "outputs": [],
   "source": [
    "cols = results.column_names"
   ]
  },
  {
   "cell_type": "code",
   "execution_count": 99,
   "id": "dbc94bcd",
   "metadata": {},
   "outputs": [
    {
     "name": "stdout",
     "output_type": "stream",
     "text": [
      "Hour NoBookings\n",
      "19   2\n",
      "15   1\n",
      "17   1\n",
      "18   1\n",
      "20   1\n"
     ]
    }
   ],
   "source": [
    "print(f\"{cols[0]} {cols[1]}\")\n",
    "for item in dataset:\n",
    "    print(f'{item[0]}   {item[1]}')"
   ]
  },
  {
   "cell_type": "markdown",
   "id": "cf0358a7",
   "metadata": {},
   "source": [
    "#### Creating - GuestStatus Stored Procedure"
   ]
  },
  {
   "cell_type": "code",
   "execution_count": 100,
   "id": "145bad98",
   "metadata": {},
   "outputs": [],
   "source": [
    "stored_procedure_status = \"\"\"\n",
    "CREATE PROCEDURE IF NOT EXISTS GuestStatus()\n",
    "BEGIN\n",
    "    SELECT\n",
    "        CONCAT(GuestFirstName,\" \",GuestLastName) GuestName,\n",
    "        CASE\n",
    "            WHEN Role = 'Manager' OR Role = 'Assistant Manager'\n",
    "            THEN 'Ready to pay'\n",
    "            WHEN Role = 'Head Chef'\n",
    "            THEN 'Ready to serve'\n",
    "            WHEN Role = 'Assistant Chef' \n",
    "            THEN 'Preparing Order'\n",
    "            WHEN Role = 'Head Waiter'\n",
    "            THEN 'Order served'\n",
    "        END AS Status\n",
    "    FROM\n",
    "        little_lemon_db.bookings b\n",
    "    LEFT JOIN\n",
    "        little_lemon_db.employees e\n",
    "    ON\n",
    "        b.EmployeeID = e.EmployeeID\n",
    "    ORDER BY\n",
    "        2;\n",
    "END\n",
    "\"\"\""
   ]
  },
  {
   "cell_type": "code",
   "execution_count": 101,
   "id": "56cfe1d9",
   "metadata": {},
   "outputs": [],
   "source": [
    "cursor.execute(stored_procedure_status)"
   ]
  },
  {
   "cell_type": "code",
   "execution_count": 102,
   "id": "6d4c8269",
   "metadata": {},
   "outputs": [
    {
     "data": {
      "text/plain": [
       "()"
      ]
     },
     "execution_count": 102,
     "metadata": {},
     "output_type": "execute_result"
    }
   ],
   "source": [
    "cursor.callproc('GuestStatus')"
   ]
  },
  {
   "cell_type": "code",
   "execution_count": 103,
   "id": "39f017e8",
   "metadata": {},
   "outputs": [],
   "source": [
    "results = next(cursor.stored_results())"
   ]
  },
  {
   "cell_type": "code",
   "execution_count": 104,
   "id": "9a7a9383",
   "metadata": {},
   "outputs": [],
   "source": [
    "dataset = results.fetchall()"
   ]
  },
  {
   "cell_type": "code",
   "execution_count": 105,
   "id": "0f856a83",
   "metadata": {},
   "outputs": [
    {
     "name": "stdout",
     "output_type": "stream",
     "text": [
      "GuestName        | Status \n",
      "----------------------------------\n",
      "Diana Pinto      | Order served \n",
      "Marcos Romero    | Preparing Order\n",
      "Anna Iversen     | Ready to pay \n",
      "Joakim Iversen   | Ready to pay \n",
      "Hiroki Yamane    | Ready to pay \n",
      "Vanessa McCarthy | Ready to serve\n"
     ]
    }
   ],
   "source": [
    "cols = results.column_names\n",
    "print('{:16} | {:^7}'.format(*cols))\n",
    "print('----------------------------------')\n",
    "for item in dataset:\n",
    "    print('{:16} | {:^13}'.format(*item))"
   ]
  },
  {
   "cell_type": "code",
   "execution_count": 106,
   "id": "354051fa",
   "metadata": {},
   "outputs": [],
   "source": [
    "cursor.close()\n",
    "conn.close()"
   ]
  },
  {
   "cell_type": "markdown",
   "id": "d6dc082c",
   "metadata": {},
   "source": [
    "### Little Lemon analysis and sales report"
   ]
  },
  {
   "cell_type": "markdown",
   "id": "b24f85b1",
   "metadata": {},
   "source": [
    "### Task 1\n",
    "\n",
    "* To create a connection pool, import MySQLConnectionPool class from MySQL Connector/Python.\n",
    "\n",
    "* To find the information on the error, import the Error class from MySQL Connector/Python.\n",
    "\n",
    "* Define your database configurations as a Python dictionary object called dbconfig.\n",
    "\n",
    "* Establish a connection pool [pool_name = pool_b] with two connections. \n",
    "\n",
    "* Implement error handling using a try-except block in case the connection fails. "
   ]
  },
  {
   "cell_type": "code",
   "execution_count": 107,
   "id": "90eaee98",
   "metadata": {},
   "outputs": [],
   "source": [
    "import mysql.connector as connector\n",
    "from mysql.connector.pooling import MySQLConnectionPool"
   ]
  },
  {
   "cell_type": "code",
   "execution_count": 108,
   "id": "ef1a7a89",
   "metadata": {},
   "outputs": [],
   "source": [
    "dbconfig={\n",
    "    \"database\":\"little_lemon_db\", \n",
    "    \"user\":\"root\", \n",
    "    \"password\":\"mackshon\"}"
   ]
  },
  {
   "cell_type": "code",
   "execution_count": 109,
   "id": "b4ab5afe",
   "metadata": {},
   "outputs": [
    {
     "name": "stdout",
     "output_type": "stream",
     "text": [
      "The connection pool is created with a name:  pool_b\n",
      "The pool size is: 2\n"
     ]
    }
   ],
   "source": [
    "try:\n",
    "    pool = MySQLConnectionPool(\n",
    "                              pool_name=\"pool_b\",\n",
    "                              pool_size=2,\n",
    "                              host='localhost',\n",
    "                              **dbconfig\n",
    "                            )\n",
    "    print(\"The connection pool is created with a name: \",pool.pool_name)\n",
    "    print(\"The pool size is:\",pool.pool_size)\n",
    "except Error as err:\n",
    "    print(\"Error code: \", err.errno)\n",
    "    print(\"Error message: \", err.msg)"
   ]
  },
  {
   "cell_type": "code",
   "execution_count": null,
   "id": "1fa75415",
   "metadata": {},
   "outputs": [],
   "source": []
  },
  {
   "cell_type": "markdown",
   "id": "42d0ea9a",
   "metadata": {},
   "source": [
    "### Task 2\n",
    "Three guests are trying to book dinner slots simultaneously. Get the connections from pool_b and insert the following data in the Bookings table:"
   ]
  },
  {
   "cell_type": "code",
   "execution_count": 110,
   "id": "c742ad5e",
   "metadata": {},
   "outputs": [],
   "source": [
    "#Function to connect users to the database\n",
    "def get_connection(guest,pool):\n",
    "    try:\n",
    "        conn = pool.get_connection()\n",
    "        print(\"[{}] is connected.\\n\".format(guest))\n",
    "        return conn\n",
    "    except:\n",
    "        print(\"No more connections are available.\")\n",
    "        print(\"Adding new connection in the pool.\")\n",
    "        # Create a connection\n",
    "        connection=connector.connect(user=\"root\",password=\"mackshon\")\n",
    "        # Add the connection into the pool\n",
    "        pool.add_connection(cnx=connection)\n",
    "        print(\"A new connection is added in the pool.\\n\")\n",
    "        print(\"[{}] is connected.\\n\".format(guest))\n",
    "        return pool.get_connection()"
   ]
  },
  {
   "cell_type": "code",
   "execution_count": null,
   "id": "c29124ad",
   "metadata": {},
   "outputs": [],
   "source": []
  },
  {
   "cell_type": "code",
   "execution_count": 111,
   "id": "a8530ac3",
   "metadata": {},
   "outputs": [],
   "source": [
    "#Insert statement\n",
    "stmt = \"\"\"INSERT INTO `little_lemon_db`.`bookings`(TableNo,GuestFirstName,GuestLastName,BookingSlot,EmployeeID)\n",
    "VALUES ({}, '{}', '{}','{}',{});\"\"\""
   ]
  },
  {
   "cell_type": "markdown",
   "id": "2bbefc69",
   "metadata": {},
   "source": [
    "#### Allocating Connections to users"
   ]
  },
  {
   "cell_type": "markdown",
   "id": "617ef3e7",
   "metadata": {},
   "source": [
    "#### Creating connection for Java and inserting to the database"
   ]
  },
  {
   "cell_type": "code",
   "execution_count": 112,
   "id": "766216c1",
   "metadata": {},
   "outputs": [
    {
     "name": "stdout",
     "output_type": "stream",
     "text": [
      "[Java] is connected.\n",
      "\n"
     ]
    }
   ],
   "source": [
    "connection1 = get_connection('Java',pool)"
   ]
  },
  {
   "cell_type": "code",
   "execution_count": 113,
   "id": "93ef98f7",
   "metadata": {},
   "outputs": [],
   "source": [
    "cursor1 = connection1.cursor()"
   ]
  },
  {
   "cell_type": "code",
   "execution_count": 114,
   "id": "714de505",
   "metadata": {},
   "outputs": [
    {
     "data": {
      "text/plain": [
       "\"INSERT INTO `little_lemon_db`.`bookings`(TableNo,GuestFirstName,GuestLastName,BookingSlot,EmployeeID)\\nVALUES (8, 'Anees', 'Java','18:00:00',6);\""
      ]
     },
     "execution_count": 114,
     "metadata": {},
     "output_type": "execute_result"
    }
   ],
   "source": [
    "insertJava = stmt.format(8,'Anees','Java','18:00:00',6)\n",
    "insertJava"
   ]
  },
  {
   "cell_type": "code",
   "execution_count": 115,
   "id": "6735c274",
   "metadata": {},
   "outputs": [],
   "source": [
    "cursor1.execute(\"Use little_lemon_db\")"
   ]
  },
  {
   "cell_type": "code",
   "execution_count": 116,
   "id": "38bc8118",
   "metadata": {},
   "outputs": [],
   "source": [
    "cursor1.execute(insertJava)"
   ]
  },
  {
   "cell_type": "code",
   "execution_count": 117,
   "id": "3876162c",
   "metadata": {},
   "outputs": [
    {
     "name": "stdout",
     "output_type": "stream",
     "text": [
      "Record successfuly added to booking table\n"
     ]
    }
   ],
   "source": [
    "connection1.commit()\n",
    "print('Record successfuly added to booking table')"
   ]
  },
  {
   "cell_type": "markdown",
   "id": "7d0f8f5e",
   "metadata": {},
   "source": [
    "#### Creating connection for Vin and inserting to the database"
   ]
  },
  {
   "cell_type": "code",
   "execution_count": 118,
   "id": "e1159d59",
   "metadata": {},
   "outputs": [
    {
     "name": "stdout",
     "output_type": "stream",
     "text": [
      "[Vin] is connected.\n",
      "\n"
     ]
    }
   ],
   "source": [
    "connection2 = get_connection('Vin',pool)"
   ]
  },
  {
   "cell_type": "code",
   "execution_count": 119,
   "id": "b31f8423",
   "metadata": {},
   "outputs": [],
   "source": [
    "cursor2 = connection2.cursor()"
   ]
  },
  {
   "cell_type": "code",
   "execution_count": 120,
   "id": "45001497",
   "metadata": {},
   "outputs": [],
   "source": [
    "insertVin = stmt.format(5,'Bald','Vin','19:00:00',6)"
   ]
  },
  {
   "cell_type": "code",
   "execution_count": 121,
   "id": "4fa0d195",
   "metadata": {},
   "outputs": [],
   "source": [
    "cursor2.execute(\"Use little_lemon_db\")"
   ]
  },
  {
   "cell_type": "code",
   "execution_count": 122,
   "id": "fe4c454b",
   "metadata": {},
   "outputs": [],
   "source": [
    "cursor2.execute(insertVin)"
   ]
  },
  {
   "cell_type": "code",
   "execution_count": 123,
   "id": "7c17e2f5",
   "metadata": {},
   "outputs": [
    {
     "name": "stdout",
     "output_type": "stream",
     "text": [
      "Record successfuly added to booking table\n"
     ]
    }
   ],
   "source": [
    "connection2.commit()\n",
    "print('Record successfuly added to booking table')"
   ]
  },
  {
   "cell_type": "markdown",
   "id": "3f9919aa",
   "metadata": {},
   "source": [
    "#### Creating connection for Jay and inserting to the database"
   ]
  },
  {
   "cell_type": "code",
   "execution_count": 124,
   "id": "dc19ec52",
   "metadata": {},
   "outputs": [
    {
     "name": "stdout",
     "output_type": "stream",
     "text": [
      "No more connections are available.\n",
      "Adding new connection in the pool.\n",
      "A new connection is added in the pool.\n",
      "\n",
      "[Jay] is connected.\n",
      "\n"
     ]
    }
   ],
   "source": [
    "connection3 = get_connection('Jay',pool)\n",
    "cursor3 = connection3.cursor()"
   ]
  },
  {
   "cell_type": "code",
   "execution_count": 125,
   "id": "124937af",
   "metadata": {},
   "outputs": [],
   "source": [
    "insertJay = stmt.format(12,'Jay','Kon','19:30:00',6)"
   ]
  },
  {
   "cell_type": "code",
   "execution_count": 126,
   "id": "ab641a08",
   "metadata": {},
   "outputs": [],
   "source": [
    "cursor3.execute(\"Use little_lemon_db\")"
   ]
  },
  {
   "cell_type": "code",
   "execution_count": 127,
   "id": "1c852a62",
   "metadata": {},
   "outputs": [],
   "source": [
    "cursor3.execute(insertJay)"
   ]
  },
  {
   "cell_type": "code",
   "execution_count": 128,
   "id": "a46b0759",
   "metadata": {},
   "outputs": [
    {
     "name": "stdout",
     "output_type": "stream",
     "text": [
      "Record successfuly added to booking table\n"
     ]
    }
   ],
   "source": [
    "connection3.commit()\n",
    "print('Record successfuly added to booking table')"
   ]
  },
  {
   "cell_type": "markdown",
   "id": "c39de03b",
   "metadata": {},
   "source": [
    "#### Closing all Connections"
   ]
  },
  {
   "cell_type": "code",
   "execution_count": 129,
   "id": "3920ebc9",
   "metadata": {},
   "outputs": [
    {
     "data": {
      "text/plain": [
       "True"
      ]
     },
     "execution_count": 129,
     "metadata": {},
     "output_type": "execute_result"
    }
   ],
   "source": [
    "cursor1.close()\n",
    "cursor2.close()\n",
    "cursor3.close()"
   ]
  },
  {
   "cell_type": "code",
   "execution_count": 130,
   "id": "964449b0",
   "metadata": {},
   "outputs": [
    {
     "name": "stdout",
     "output_type": "stream",
     "text": [
      "Connection is returned to the pool\n",
      "Connection is returned to the pool\n",
      "\n",
      "Connection can't be returned to the pool\n",
      "Error message: Failed adding connection; queue is full\n"
     ]
    }
   ],
   "source": [
    "from mysql.connector import Error\n",
    "for connection in [connection1,connection2, connection3]:\n",
    "    try:\n",
    "        connection.close()\n",
    "        print(\"Connection is returned to the pool\")\n",
    "    except Error as er:\n",
    "        print(\"\\nConnection can't be returned to the pool\")\n",
    "        print(\"Error message:\", er.msg)\n"
   ]
  },
  {
   "cell_type": "markdown",
   "id": "c4281ac3",
   "metadata": {},
   "source": [
    "### Task 3\n",
    "Create a report containing the following information:\n",
    "\n",
    "* The name and EmployeeID of the Little Lemon manager.\n",
    "\n",
    "* The name and role of the employee who receives the highest salary.\n",
    "\n",
    "* The number of guests booked between 18:00 and 20:00.\n",
    "\n",
    "* The full name and BookingID of all guests waiting to be seated with the receptionist in sorted order with respect to their BookingSlot."
   ]
  },
  {
   "cell_type": "code",
   "execution_count": 131,
   "id": "7bdf51c7",
   "metadata": {},
   "outputs": [],
   "source": [
    "conn = pool.get_connection()\n",
    "cursor = conn.cursor(buffered=True)"
   ]
  },
  {
   "cell_type": "code",
   "execution_count": 132,
   "id": "dd6b495a",
   "metadata": {},
   "outputs": [],
   "source": [
    "stmt1 = \"\"\"\n",
    "SELECT\n",
    "    EmployeeID, Name\n",
    "FROM\n",
    "    Employees\n",
    "WHERE \n",
    "    role = 'Manager'\n",
    "\"\"\""
   ]
  },
  {
   "cell_type": "code",
   "execution_count": 133,
   "id": "15d5ccea",
   "metadata": {},
   "outputs": [],
   "source": [
    "cursor.execute(stmt1)"
   ]
  },
  {
   "cell_type": "code",
   "execution_count": 134,
   "id": "ec186667",
   "metadata": {},
   "outputs": [
    {
     "data": {
      "text/plain": [
       "(1, 'Mario Gollini')"
      ]
     },
     "execution_count": 134,
     "metadata": {},
     "output_type": "execute_result"
    }
   ],
   "source": [
    "manager = cursor.fetchone()\n",
    "manager"
   ]
  },
  {
   "cell_type": "code",
   "execution_count": 135,
   "id": "bb28791d",
   "metadata": {},
   "outputs": [],
   "source": [
    "stmt2 = \"\"\"\n",
    "SELECT\n",
    "    Name, Role\n",
    "FROM\n",
    "    Employees\n",
    "ORDER BY\n",
    "    Annual_Salary DESC\n",
    "LIMIT 1\n",
    "\"\"\""
   ]
  },
  {
   "cell_type": "code",
   "execution_count": 136,
   "id": "b6f7a9fa",
   "metadata": {},
   "outputs": [],
   "source": [
    "cursor.execute(stmt2)"
   ]
  },
  {
   "cell_type": "code",
   "execution_count": 137,
   "id": "c35eac3b",
   "metadata": {},
   "outputs": [
    {
     "data": {
      "text/plain": [
       "('Mario Gollini', 'Manager')"
      ]
     },
     "execution_count": 137,
     "metadata": {},
     "output_type": "execute_result"
    }
   ],
   "source": [
    "highest_paid = cursor.fetchone()\n",
    "highest_paid"
   ]
  },
  {
   "cell_type": "code",
   "execution_count": 138,
   "id": "915159a1",
   "metadata": {},
   "outputs": [],
   "source": [
    "stmt3 = \"\"\"\n",
    "SELECT \n",
    "    count(*) NoOfGuests\n",
    "FROM\n",
    "    Bookings\n",
    "WHERE\n",
    "    BookingSlot >= '18:00:00' AND  BookingSlot <= '20:00:00'\n",
    "\"\"\""
   ]
  },
  {
   "cell_type": "code",
   "execution_count": 139,
   "id": "cb952cdc",
   "metadata": {},
   "outputs": [],
   "source": [
    "cursor.execute(stmt3)"
   ]
  },
  {
   "cell_type": "code",
   "execution_count": 140,
   "id": "9cfec872",
   "metadata": {},
   "outputs": [
    {
     "data": {
      "text/plain": [
       "(7,)"
      ]
     },
     "execution_count": 140,
     "metadata": {},
     "output_type": "execute_result"
    }
   ],
   "source": [
    "no_of_guests = cursor.fetchone()\n",
    "no_of_guests"
   ]
  },
  {
   "cell_type": "code",
   "execution_count": 141,
   "id": "ae1dbda6",
   "metadata": {},
   "outputs": [],
   "source": [
    "stmt4 = \"\"\"\n",
    "SELECT\n",
    "    BookingID,\n",
    "    CONCAT(GuestFirstName ,' ', GuestLastName) Guest_name,\n",
    "    BookingSlot\n",
    "FROM\n",
    "    Bookings\n",
    "ORDER BY\n",
    "    BookingSlot\n",
    "\"\"\""
   ]
  },
  {
   "cell_type": "code",
   "execution_count": 142,
   "id": "5675192f",
   "metadata": {},
   "outputs": [],
   "source": [
    "cursor.execute(stmt4)"
   ]
  },
  {
   "cell_type": "code",
   "execution_count": 143,
   "id": "6a1294c7",
   "metadata": {},
   "outputs": [
    {
     "data": {
      "text/plain": [
       "(3, 'Vanessa McCarthy', datetime.timedelta(seconds=54000))"
      ]
     },
     "execution_count": 143,
     "metadata": {},
     "output_type": "execute_result"
    }
   ],
   "source": [
    "guests = cursor.fetchone()\n",
    "guests"
   ]
  },
  {
   "cell_type": "code",
   "execution_count": 144,
   "id": "576f3eec",
   "metadata": {},
   "outputs": [
    {
     "data": {
      "text/plain": [
       "True"
      ]
     },
     "execution_count": 144,
     "metadata": {},
     "output_type": "execute_result"
    }
   ],
   "source": [
    "cursor.close()"
   ]
  },
  {
   "cell_type": "code",
   "execution_count": 145,
   "id": "91eca5c0",
   "metadata": {},
   "outputs": [],
   "source": [
    "conn.close()"
   ]
  },
  {
   "cell_type": "markdown",
   "id": "a9314669",
   "metadata": {},
   "source": [
    "### Task 4\n",
    "Create a stored procedure named BasicSalesReport that returns the following statistics: \n",
    "\n",
    "* Total sales\n",
    "\n",
    "* Average sale\n",
    "\n",
    "* Minimum bill paid\n",
    "\n",
    "* Maximum bill paid"
   ]
  },
  {
   "cell_type": "code",
   "execution_count": 146,
   "id": "e3777bf6",
   "metadata": {},
   "outputs": [],
   "source": [
    "conn = pool.get_connection()\n",
    "cursor = conn.cursor(buffered=True)"
   ]
  },
  {
   "cell_type": "code",
   "execution_count": 147,
   "id": "955494d8",
   "metadata": {},
   "outputs": [],
   "source": [
    "stored_procedure = \"\"\"\n",
    "CREATE PROCEDURE IF NOT EXISTS BasicSalesReport(OUT TotalSales INT, OUT AverageSales INT,\n",
    "OUT MinimumBillPaid INT, OUT MaximumBillPaid INT)\n",
    "BEGIN \n",
    "    SELECT \n",
    "        SUM(BillAmount)\n",
    "        INTO TotalSales\n",
    "    FROM\n",
    "        Orders;\n",
    "    SELECT \n",
    "        AVG(BillAmount)\n",
    "        INTO AverageSales \n",
    "    FROM\n",
    "        Orders;\n",
    "    SELECT \n",
    "        MIN(BillAmount)\n",
    "        INTO MinimumBillPaid \n",
    "    FROM\n",
    "        Orders;\n",
    "    SELECT \n",
    "        MAX(BillAmount)\n",
    "        INTO MaximumBillPaid \n",
    "    FROM\n",
    "        Orders;\n",
    "END \n",
    "\"\"\""
   ]
  },
  {
   "cell_type": "code",
   "execution_count": 148,
   "id": "7d3fb27c",
   "metadata": {},
   "outputs": [],
   "source": [
    "cursor.execute(stored_procedure)"
   ]
  },
  {
   "cell_type": "code",
   "execution_count": 149,
   "id": "103eb12b",
   "metadata": {},
   "outputs": [],
   "source": [
    "result_args = cursor.callproc('BasicSalesReport',( 0, 1, 2, 3))"
   ]
  },
  {
   "cell_type": "code",
   "execution_count": 151,
   "id": "e3a69dd1",
   "metadata": {},
   "outputs": [
    {
     "name": "stdout",
     "output_type": "stream",
     "text": [
      "TotalSales | AverageSales | MinimumBillPaid | MaximumBillPaid\n",
      "-------------------------------------------------------------\n",
      "   243     |      49      |       37        |      86      \n"
     ]
    }
   ],
   "source": [
    "print('{:^7} | {:^7} | {:7} | {:^7}'.format(*cols))\n",
    "print('-------------------------------------------------------------')\n",
    "print('{:^10} | {:^12} | {:^15} | {:^13}'.format(*result_args))"
   ]
  },
  {
   "cell_type": "code",
   "execution_count": 152,
   "id": "2102441d",
   "metadata": {},
   "outputs": [],
   "source": [
    "conn.close()"
   ]
  },
  {
   "cell_type": "markdown",
   "id": "7ead890f",
   "metadata": {},
   "source": [
    "### Task 5\n",
    "* Combine the data from the Bookings and the Employee tables. Sort the retrieved records in ascending order. Then display the information of the first three guests. \n",
    "\n",
    "* Returned the connection back to the pool.\n",
    "\n",
    "The output should be as follows:\n",
    "\n",
    "> [BookingSlot]\n",
    "\n",
    "> [Guest_name]\n",
    "\n",
    "> [Assigned to: Employee Name [Employee Role]]"
   ]
  },
  {
   "cell_type": "code",
   "execution_count": 160,
   "id": "3568ffe9",
   "metadata": {},
   "outputs": [],
   "source": [
    "conn = pool.get_connection()\n",
    "cursor = conn.cursor()"
   ]
  },
  {
   "cell_type": "code",
   "execution_count": 154,
   "id": "603605c7",
   "metadata": {},
   "outputs": [],
   "source": [
    "stmt = \"\"\"\n",
    "SELECT\n",
    "    BookingSlot,\n",
    "    CONCAT(GuestFirstName ,' ', GuestLastName) Guest_name,\n",
    "    CONCAT('Assigned to: ', Name,' ',Role) Details\n",
    "FROM\n",
    "    Bookings as b\n",
    "JOIN\n",
    "    Employees as e\n",
    "ON\n",
    "    b.EmployeeID = e.EmployeeID\n",
    "ORDER BY\n",
    "    BookingSlot ASC \n",
    "LIMIT 3;\n",
    "\"\"\""
   ]
  },
  {
   "cell_type": "code",
   "execution_count": 155,
   "id": "2e869356",
   "metadata": {},
   "outputs": [],
   "source": [
    "cursor.execute(stmt)"
   ]
  },
  {
   "cell_type": "code",
   "execution_count": 156,
   "id": "e433c530",
   "metadata": {},
   "outputs": [],
   "source": [
    "dataset = cursor.fetchall()"
   ]
  },
  {
   "cell_type": "code",
   "execution_count": 157,
   "id": "13864923",
   "metadata": {},
   "outputs": [],
   "source": [
    "cols = cursor.column_names"
   ]
  },
  {
   "cell_type": "code",
   "execution_count": 158,
   "id": "99208593",
   "metadata": {},
   "outputs": [
    {
     "name": "stdout",
     "output_type": "stream",
     "text": [
      "BookingSlot |    Guest_name    | Details\n",
      "------------------------------------------------------------------------------\n",
      "15:00:00    | Vanessa McCarthy | Assigned to: Giorgos Dioudis Head Chef \n",
      "17:30:00    | Marcos Romero    | Assigned to: Fatma Kaya Assistant Chef \n",
      "18:00:00    | Anees Java       | Assigned to: John Millar Receptionist \n"
     ]
    }
   ],
   "source": [
    "print('{:^7} | {:^16} | {:7}'.format(*cols))\n",
    "print('------------------------------------------------------------------------------')\n",
    "for row in dataset:\n",
    "    print('{}    | {:16} | {:^15} '.format(*row))"
   ]
  },
  {
   "cell_type": "code",
   "execution_count": 159,
   "id": "81486510",
   "metadata": {},
   "outputs": [],
   "source": [
    "cursor.close()\n",
    "conn.close()"
   ]
  },
  {
   "cell_type": "code",
   "execution_count": null,
   "id": "0245fc95",
   "metadata": {},
   "outputs": [],
   "source": []
  }
 ],
 "metadata": {
  "kernelspec": {
   "display_name": "Python 3 (ipykernel)",
   "language": "python",
   "name": "python3"
  },
  "language_info": {
   "codemirror_mode": {
    "name": "ipython",
    "version": 3
   },
   "file_extension": ".py",
   "mimetype": "text/x-python",
   "name": "python",
   "nbconvert_exporter": "python",
   "pygments_lexer": "ipython3",
   "version": "3.9.7"
  }
 },
 "nbformat": 4,
 "nbformat_minor": 5
}
