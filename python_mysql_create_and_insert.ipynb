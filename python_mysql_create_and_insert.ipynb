{
 "cells": [
  {
   "cell_type": "code",
   "execution_count": 51,
   "id": "10c15be2",
   "metadata": {},
   "outputs": [],
   "source": [
    "import mysql.connector as connector\n"
   ]
  },
  {
   "cell_type": "code",
   "execution_count": 52,
   "id": "26ee8d5b",
   "metadata": {},
   "outputs": [],
   "source": [
    "try:\n",
    "    conn = connector.connect(user='root', password='')\n",
    "except connector.Error as err:\n",
    "    print(f'Connection error: {err}')\n",
    "    "
   ]
  },
  {
   "cell_type": "code",
   "execution_count": 53,
   "id": "ee29524d",
   "metadata": {},
   "outputs": [],
   "source": [
    "# Defining cursor\n",
    "cursor = conn.cursor()"
   ]
  },
  {
   "cell_type": "code",
   "execution_count": 54,
   "id": "216c473b",
   "metadata": {},
   "outputs": [],
   "source": [
    "try:\n",
    "    cursor.execute(\"CREATE DATABASE little_lemon_db\")\n",
    "except:\n",
    "    cursor.execute(\"drop database little_lemon_db\")\n",
    "    cursor.execute(\"CREATE DATABASE little_lemon_db\")\n",
    "print(\"The database little_lemon is created.\\n\")    "
   ]
  },
  {
   "cell_type": "code",
   "execution_count": 55,
   "id": "8ca6431e",
   "metadata": {},
   "outputs": [],
   "source": [
    "cursor.execute('use little_lemon_db')"
   ]
  },
  {
   "cell_type": "code",
   "execution_count": 56,
   "id": "82eea1a8",
   "metadata": {},
   "outputs": [],
   "source": [
    "#MenuItems table\n",
    "create_menuitem_table = \"\"\"CREATE TABLE IF NOT EXISTS MenuItems (\n",
    "ItemID INT AUTO_INCREMENT,\n",
    "Name VARCHAR(200),\n",
    "Type VARCHAR(100),\n",
    "Price INT,\n",
    "PRIMARY KEY (ItemID)\n",
    ");\"\"\""
   ]
  },
  {
   "cell_type": "code",
   "execution_count": 57,
   "id": "97715cf9",
   "metadata": {},
   "outputs": [],
   "source": [
    "create_menu_table = \"\"\"CREATE TABLE IF NOT EXISTS  Menus (\n",
    "MenuID INT,\n",
    "ItemID INT,\n",
    "Cuisine VARCHAR(100)\n",
    ");\"\"\""
   ]
  },
  {
   "cell_type": "code",
   "execution_count": 58,
   "id": "ca973d32",
   "metadata": {},
   "outputs": [],
   "source": [
    "create_booking_table = \"\"\"CREATE TABLE IF NOT EXISTS  Bookings (\n",
    "BookingID INT AUTO_INCREMENT,\n",
    "TableNo INT,\n",
    "GuestFirstName VARCHAR(100) NOT NULL,\n",
    "GuestLastName VARCHAR(100) NOT NULL,\n",
    "BookingSlot TIME NOT NULL,\n",
    "EmployeeID INT,\n",
    "PRIMARY KEY (BookingID)\n",
    ");\"\"\""
   ]
  },
  {
   "cell_type": "code",
   "execution_count": 59,
   "id": "fa449655",
   "metadata": {},
   "outputs": [],
   "source": [
    "create_orders_table = \"\"\"CREATE TABLE IF NOT EXISTS  Orders (\n",
    "OrderID INT,\n",
    "TableNo INT,\n",
    "MenuID INT,\n",
    "BookingID INT,\n",
    "BillAmount INT,\n",
    "Quantity INT,\n",
    "PRIMARY KEY (OrderID,TableNo)\n",
    ");\"\"\""
   ]
  },
  {
   "cell_type": "code",
   "execution_count": 60,
   "id": "5411a569",
   "metadata": {},
   "outputs": [],
   "source": [
    "create_employees_table = \"\"\"CREATE TABLE IF NOT EXISTS   Employees (\n",
    "EmployeeID INT AUTO_INCREMENT PRIMARY KEY,\n",
    "Name VARCHAR(100) NOT NULL,\n",
    "Role VARCHAR(100) NOT NULL,\n",
    "Address VARCHAR(100) NOT NULL,\n",
    "Contact_Number INT,\n",
    "Email VARCHAR(100) NOT NULL,\n",
    "Annual_Salary VARCHAR(100) NOT NULL\n",
    ");\"\"\""
   ]
  },
  {
   "cell_type": "code",
   "execution_count": 61,
   "id": "3fb0d1e9",
   "metadata": {},
   "outputs": [],
   "source": [
    "# Create Menu table\n",
    "cursor.execute(create_menu_table)\n",
    "\n",
    "# Create Bookings table\n",
    "cursor.execute(create_booking_table)\n",
    "\n",
    "# Create Orders table\n",
    "cursor.execute(create_orders_table)\n",
    "\n",
    "# Create Employees table\n",
    "cursor.execute(create_employees_table)"
   ]
  },
  {
   "cell_type": "code",
   "execution_count": 62,
   "id": "1f33442b",
   "metadata": {},
   "outputs": [],
   "source": [
    "# Create Employees table\n",
    "cursor.execute(create_menuitem_table)"
   ]
  },
  {
   "cell_type": "code",
   "execution_count": 63,
   "id": "0f99ac69",
   "metadata": {},
   "outputs": [],
   "source": [
    "#*******************************************************#\n",
    "# Insert query to populate \"MenuItems\" table:\n",
    "#*******************************************************#\n",
    "insert_menuitems=\"\"\"\n",
    "INSERT INTO MenuItems ( Name, Type, Price)\n",
    "VALUES\n",
    "( 'Olives','Starters',5),\n",
    "('Flatbread','Starters', 5),\n",
    "( 'Minestrone', 'Starters', 8),\n",
    "( 'Tomato bread','Starters', 8),\n",
    "('Falafel', 'Starters', 7),\n",
    "( 'Hummus', 'Starters', 5),\n",
    "( 'Greek salad', 'Main Courses', 15),\n",
    "( 'Bean soup', 'Main Courses', 12),\n",
    "( 'Pizza', 'Main Courses', 15),\n",
    "( 'Greek yoghurt','Desserts', 7),\n",
    "('Ice cream', 'Desserts', 6),\n",
    "('Cheesecake', 'Desserts', 4),\n",
    "('Athens White wine', 'Drinks', 25),\n",
    "('Corfu Red Wine', 'Drinks', 30),\n",
    "( 'Turkish Coffee', 'Drinks', 10),\n",
    "( 'Turkish Coffee', 'Drinks', 10),\n",
    "('Kabasa', 'Main Courses', 17);\"\"\"\n"
   ]
  },
  {
   "cell_type": "code",
   "execution_count": 67,
   "id": "d1f80bb4",
   "metadata": {},
   "outputs": [],
   "source": [
    "\n",
    "#*******************************************************#\n",
    "# Insert query to populate \"Menu\" table:\n",
    "#*******************************************************#\n",
    "insert_menu=\"\"\"\n",
    "INSERT INTO Menus (MenuID,ItemID,Cuisine)\n",
    "VALUES\n",
    "(1, 1, 'Greek'),\n",
    "(1, 7, 'Greek'),\n",
    "(1, 10, 'Greek'),\n",
    "(1, 13, 'Greek'),\n",
    "(2, 3, 'Italian'),\n",
    "(2, 9, 'Italian'),\n",
    "(2, 12, 'Italian'),\n",
    "(2, 15, 'Italian'),\n",
    "(3, 5, 'Turkish'),\n",
    "(3, 17, 'Turkish'),\n",
    "(3, 11, 'Turkish'),\n",
    "(3, 16, 'Turkish');\"\"\"\n",
    "\n",
    "#*******************************************************#\n",
    "# Insert query to populate \"Bookings\" table:\n",
    "#*******************************************************#\n",
    "insert_bookings=\"\"\"\n",
    "INSERT INTO Bookings (TableNo, GuestFirstName, \n",
    "GuestLastName, BookingSlot, EmployeeID)\n",
    "VALUES\n",
    "( 12, 'Anna','Iversen','19:00:00',1),\n",
    "(12, 'Joakim', 'Iversen', '19:00:00', 1),\n",
    "(19, 'Vanessa', 'McCarthy', '15:00:00', 3),\n",
    "(15, 'Marcos', 'Romero', '17:30:00', 4),\n",
    "( 5, 'Hiroki', 'Yamane', '18:30:00', 2),\n",
    "( 8, 'Diana', 'Pinto', '20:00:00', 5);\"\"\"\n",
    "\n",
    "#*******************************************************#\n",
    "# Insert query to populate \"Orders\" table:\n",
    "#*******************************************************#\n",
    "insert_orders=\"\"\"\n",
    "INSERT INTO Orders (OrderID, TableNo, MenuID, BookingID, Quantity, BillAmount)\n",
    "VALUES\n",
    "(1, 12, 1, 1, 2, 86),\n",
    "(2, 19, 2, 2, 1, 37),\n",
    "(3, 15, 2, 3, 1, 37),\n",
    "(4, 5, 3, 4, 1, 40),\n",
    "(5, 8, 1, 5, 1, 43);\"\"\"\n",
    "\n",
    "#*******************************************************#\n",
    "# Insert query to populate \"Employees\" table:\n",
    "#*******************************************************#\n",
    "insert_employees = \"\"\"\n",
    "INSERT INTO employees (Name, Role, Address, Contact_Number, Email, Annual_Salary) VALUES\n",
    "('Mario Gollini','Manager','724, Parsley Lane, Old Town, Chicago, IL',351258074,'Mario.g@littlelemon.com','$70,000'),\n",
    "('Adrian Gollini','Assistant Manager','334, Dill Square, Lincoln Park, Chicago, IL',351474048,'Adrian.g@littlelemon.com','$65,000'),\n",
    "('Giorgos Dioudis','Head Chef','879 Sage Street, West Loop, Chicago, IL',351970582,'Giorgos.d@littlelemon.com','$50,000'),\n",
    "('Fatma Kaya','Assistant Chef','132  Bay Lane, Chicago, IL',351963569,'Fatma.k@littlelemon.com','$45,000'),\n",
    "('Elena Salvai','Head Waiter','989 Thyme Square, EdgeWater, Chicago, IL',351074198,'Elena.s@littlelemon.com','$40,000'),\n",
    "('John Millar','Receptionist','245 Dill Square, Lincoln Park, Chicago, IL',351584508,'John.m@littlelemon.com','$35,000');\"\"\"\n"
   ]
  },
  {
   "cell_type": "code",
   "execution_count": 65,
   "id": "3eedde65",
   "metadata": {},
   "outputs": [],
   "source": [
    "# Populate MenuItems table\n",
    "cursor.execute(insert_menuitems)\n",
    "conn.commit()\n"
   ]
  },
  {
   "cell_type": "code",
   "execution_count": 68,
   "id": "c58d1e53",
   "metadata": {},
   "outputs": [],
   "source": [
    "# Populate Employees table\n",
    "cursor.execute(insert_employees)\n",
    "conn.commit()"
   ]
  },
  {
   "cell_type": "code",
   "execution_count": null,
   "id": "5721d20c",
   "metadata": {},
   "outputs": [],
   "source": [
    "# Populate MenuItems table\n",
    "cursor.execute(insert_menu)\n",
    "conn.commit()\n",
    "\n",
    "# Populate Bookings table\n",
    "cursor.execute(insert_bookings)\n",
    "conn.commit()\n",
    "\n",
    "# Populate Orders table\n",
    "cursor.execute(insert_orders)\n",
    "conn.commit()\n"
   ]
  },
  {
   "cell_type": "code",
   "execution_count": null,
   "id": "ff600068",
   "metadata": {},
   "outputs": [],
   "source": []
  }
 ],
 "metadata": {
  "kernelspec": {
   "display_name": "Python 3 (ipykernel)",
   "language": "python",
   "name": "python3"
  },
  "language_info": {
   "codemirror_mode": {
    "name": "ipython",
    "version": 3
   },
   "file_extension": ".py",
   "mimetype": "text/x-python",
   "name": "python",
   "nbconvert_exporter": "python",
   "pygments_lexer": "ipython3",
   "version": "3.9.7"
  }
 },
 "nbformat": 4,
 "nbformat_minor": 5
}
